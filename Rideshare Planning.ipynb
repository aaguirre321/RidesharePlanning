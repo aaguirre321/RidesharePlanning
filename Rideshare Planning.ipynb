{
 "cells": [
  {
   "cell_type": "code",
   "execution_count": 29,
   "id": "da011d60-6183-4120-b4cf-9e2806f3e6f6",
   "metadata": {},
   "outputs": [],
   "source": [
    "import math\n",
    "from itertools import permutations\n",
    "from matplotlib import pyplot as plt"
   ]
  },
  {
   "cell_type": "markdown",
   "id": "7642d261-a79b-4a58-baa6-2a08f1c87a20",
   "metadata": {},
   "source": [
    "<b>Rideshare Distance Definition<b>"
   ]
  },
  {
   "cell_type": "code",
   "execution_count": 30,
   "id": "4cc440e9-526a-4aa8-81df-a6427b08744d",
   "metadata": {},
   "outputs": [],
   "source": [
    "def rideshare_distance(p, q):\n",
    "    ''' Calculates rideshare distance between points p and q. That is, the\n",
    "        distance when the car can only move along y direction or along x direction.\n",
    "        No diagonal movement\n",
    "        p: A list or tuple with two elements, both of which must be numeric.\n",
    "        q: A list or tuple with two elements, both of which must be numeric.\n",
    "    '''\n",
    "    return abs(p[0] - q[0]) + abs(p[1] - q[1])\n"
   ]
  },
  {
   "cell_type": "code",
   "execution_count": 32,
   "id": "1f8c9187-daba-4af3-b603-d3e32cf20898",
   "metadata": {},
   "outputs": [
    {
     "data": {
      "text/plain": [
       "5"
      ]
     },
     "execution_count": 32,
     "metadata": {},
     "output_type": "execute_result"
    }
   ],
   "source": [
    "rideshare_distance((5,2), (7,5))"
   ]
  },
  {
   "cell_type": "markdown",
   "id": "5a4a3951-5044-4c91-b9aa-728ded52d98b",
   "metadata": {},
   "source": [
    "<b>Cost of a Rideshare<b>"
   ]
  },
  {
   "cell_type": "code",
   "execution_count": 34,
   "id": "4c929712-af0d-47cf-ba4d-85f8b524447d",
   "metadata": {},
   "outputs": [],
   "source": [
    "def trip_cost(p, q, fare = 1.50):\n",
    "    ''' Calculates total cost of ride depending on distance between two points\n",
    "        calculated by rideshare_distance function.\n",
    "        Args:\n",
    "        p: A list or tuple with two elements, both of which must be numeric.\n",
    "        q: A list or tuple with two elements, both of which must be numeric.\n",
    "        fare: Number representing fare per mile, with default value 1.50.\n",
    "    '''\n",
    "    cost = rideshare_distance(p, q) * fare\n",
    "    cost = \"{:.2f}\".format(cost)\n",
    "    print(\"The cost of the trip will be ${}\".format(cost))"
   ]
  },
  {
   "cell_type": "code",
   "execution_count": 35,
   "id": "84002555-ad0c-4144-b99e-3cf85cbb1a97",
   "metadata": {},
   "outputs": [
    {
     "name": "stdout",
     "output_type": "stream",
     "text": [
      "The cost of the trip will be $7.50\n"
     ]
    }
   ],
   "source": [
    "trip_cost((5,2), (7,5))"
   ]
  },
  {
   "cell_type": "markdown",
   "id": "233ccd4c-2152-4bba-ad93-1eb536d1961a",
   "metadata": {},
   "source": [
    "<b> Calulate the Rideshare Distance with Numerous Stops<b>"
   ]
  },
  {
   "cell_type": "code",
   "execution_count": 7,
   "id": "7c05d437-e1d7-4106-aba4-185ae098c408",
   "metadata": {},
   "outputs": [],
   "source": [
    "def simple_route(start, stops, end):\n",
    "    ''' Calculates total rideshare distance travelled in a trip with multiple stops.\n",
    "    Args:\n",
    "    start: Represents starting point of trip\n",
    "    stops: Represents all the stops made on a trip in between the start and end.\n",
    "    end: Represents ending point of trip.\n",
    "    Returns:\n",
    "    '''\n",
    "    total_distance = 0\n",
    "    p = start\n",
    "    for stop in stops:\n",
    "        q = stop\n",
    "        total_distance += rideshare_distance(p, q)\n",
    "        p = stop\n",
    "    total_distance += rideshare_distance(p, end)\n",
    "    return total_distance\n",
    "\n",
    "def best_route(start, stops, end):\n",
    "    ''' Calculates shortest possible rideshare distance between multiple stops and determines optimal order that\n",
    "    the stops must be reached in to achieve the shortest distance.\n",
    "    Args:\n",
    "    start:Represents starting point of trip.\n",
    "    stops: Represents all the stops made on a trip in between the start and end.\n",
    "    end: Represents ending point of trip.\n",
    "    '''\n",
    "    perms = list(permutations(range(len(stops))))\n",
    "    best_distance = simple_route(start, stops, end)\n",
    "    best_perm = perms[0]\n",
    "    for new_perm in perms:\n",
    "        new_stops = [stops[i] for i in new_perm]\n",
    "        new_distance = simple_route(start, new_stops, end)\n",
    "        if new_distance < best_distance:\n",
    "            best_distance = new_distance\n",
    "            best_perm = new_perm\n",
    "    return best_distance, best_perm\n"
   ]
  },
  {
   "cell_type": "code",
   "execution_count": 36,
   "id": "43d318f0-57e1-4b68-bac4-e6a4a820bd36",
   "metadata": {},
   "outputs": [
    {
     "name": "stdout",
     "output_type": "stream",
     "text": [
      "The simple distance for the points is 23 while the best distance is 19\n",
      "The best distance is achieved with permutation (0, 2, 1)\n"
     ]
    }
   ],
   "source": [
    "start = (-2,3)\n",
    "stops = [(-1,-2),(3,3),(2,-1)]\n",
    "end=(4,0)\n",
    "simple_distance = simple_route(start,stops,end)\n",
    "best_distance, best_perm= best_route(start,stops,end)\n",
    "print(\"The simple distance for the points is\", simple_distance,\n",
    "      \"while the best distance is\",best_distance)\n",
    "print(\"The best distance is achieved with permutation\",best_perm)"
   ]
  },
  {
   "cell_type": "markdown",
   "id": "f60672fe-4336-462a-b2dc-947d84be376d",
   "metadata": {},
   "source": [
    "<b> Show Best Route Graphically<b>"
   ]
  },
  {
   "cell_type": "code",
   "execution_count": 26,
   "id": "aba2ca12-3dc5-4a8c-b193-fa0323e8f8e6",
   "metadata": {},
   "outputs": [
    {
     "data": {
      "image/png": "[encoded data removed]",
      "text/plain": [
       "<Figure size 640x480 with 1 Axes>"
      ]
     },
     "metadata": {},
     "output_type": "display_data"
    }
   ],
   "source": [
    "plt.scatter(x_stops,y_stops)\n",
    "plt.scatter(start_point[0],start_point[1],color=\"red\")\n",
    "plt.scatter(stop_point[0],stop_point[1],color=\"gold\")\n",
    "def plot_line(p,q):\n",
    "    plt.plot([p[0],q[0]],[p[1],q[1]],color=\"black\")\n",
    "plot_line(start,stops[best_perm[0]])\n",
    "plot_line(stops[best_perm[0]],stops[best_perm[1]])\n",
    "plot_line(stops[best_perm[1]],stops[best_perm[2]])\n",
    "plot_line(stops[best_perm[2]],end)"
   ]
  }
 ],
 "metadata": {
  "kernelspec": {
   "display_name": "Python 3 (ipykernel)",
   "language": "python",
   "name": "python3"
  },
  "language_info": {
   "codemirror_mode": {
    "name": "ipython",
    "version": 3
   },
   "file_extension": ".py",
   "mimetype": "text/x-python",
   "name": "python",
   "nbconvert_exporter": "python",
   "pygments_lexer": "ipython3",
   "version": "3.10.9"
  }
 },
 "nbformat": 4,
 "nbformat_minor": 5
}
